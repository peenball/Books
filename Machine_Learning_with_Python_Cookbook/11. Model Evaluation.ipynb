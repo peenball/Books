{
 "cells": [
  {
   "cell_type": "markdown",
   "id": "a758d285",
   "metadata": {},
   "source": [
    "# 11.0 소개"
   ]
  },
  {
   "cell_type": "markdown",
   "id": "033cb879",
   "metadata": {},
   "source": [
    "---"
   ]
  },
  {
   "cell_type": "markdown",
   "id": "3166f75b",
   "metadata": {},
   "source": [
    "# 11.1 교차검증 모델 만들기"
   ]
  },
  {
   "cell_type": "code",
   "execution_count": 1,
   "id": "64807319",
   "metadata": {},
   "outputs": [
    {
     "data": {
      "text/plain": [
       "0.9693916821849783"
      ]
     },
     "execution_count": 1,
     "metadata": {},
     "output_type": "execute_result"
    }
   ],
   "source": [
    "# 라이브러리를 임포트합니다\n",
    "from sklearn import datasets\n",
    "from sklearn import metrics\n",
    "from sklearn.model_selection import KFold, cross_val_score\n",
    "from sklearn.pipeline import make_pipeline\n",
    "from sklearn.linear_model import LogisticRegression\n",
    "from sklearn.preprocessing import StandardScaler\n",
    "\n",
    "# 숫자 데이터셋을 로드합니다\n",
    "digits = datasets.load_digits()\n",
    "\n",
    "# 특성 행렬을 만듭니다\n",
    "features = digits.data\n",
    "\n",
    "# 타깃 벡터를 만듭니다\n",
    "target = digits.target\n",
    "\n",
    "# 표준화 객체를 만듭니다\n",
    "standardizer = StandardScaler()\n",
    "\n",
    "# 로지스틱 회귀 객체를 만듭니다\n",
    "logit = LogisticRegression()\n",
    "\n",
    "# 표준화한 다음 로지스틱 회귀를 실행하는 파이프라인을 만듭니다\n",
    "pipeline = make_pipeline(standardizer, logit)\n",
    "\n",
    "# K-폴드 교차검증을 만듭니다\n",
    "kf = KFold(n_splits=10, shuffle=True, random_state=1)\n",
    "\n",
    "# K-폴드 교차검증을 수행합니다\n",
    "cv_results = cross_val_score(pipeline, # 파이프라인\n",
    "                             features, # 특성 행렬\n",
    "                             target, # 타깃 벡터\n",
    "                             cv=kf, # 교차검증 기법\n",
    "                             scoring='accuracy', # 평가지표\n",
    "                             n_jobs=-1) # 모든 CPI 코어 사용\n",
    "\n",
    "# 평균을 계산합니다\n",
    "cv_results.mean()"
   ]
  },
  {
   "cell_type": "code",
   "execution_count": null,
   "id": "902ec1ac",
   "metadata": {},
   "outputs": [],
   "source": []
  },
  {
   "cell_type": "code",
   "execution_count": null,
   "id": "6d0ea187",
   "metadata": {},
   "outputs": [],
   "source": []
  },
  {
   "cell_type": "code",
   "execution_count": null,
   "id": "7175744c",
   "metadata": {},
   "outputs": [],
   "source": []
  },
  {
   "cell_type": "code",
   "execution_count": null,
   "id": "2159ec49",
   "metadata": {},
   "outputs": [],
   "source": []
  },
  {
   "cell_type": "code",
   "execution_count": null,
   "id": "0b12bc3f",
   "metadata": {},
   "outputs": [],
   "source": []
  },
  {
   "cell_type": "code",
   "execution_count": null,
   "id": "bac5350c",
   "metadata": {},
   "outputs": [],
   "source": []
  },
  {
   "cell_type": "code",
   "execution_count": null,
   "id": "d1a107cb",
   "metadata": {},
   "outputs": [],
   "source": []
  },
  {
   "cell_type": "code",
   "execution_count": null,
   "id": "2c67faaf",
   "metadata": {},
   "outputs": [],
   "source": []
  },
  {
   "cell_type": "code",
   "execution_count": null,
   "id": "f1c1981d",
   "metadata": {},
   "outputs": [],
   "source": []
  },
  {
   "cell_type": "code",
   "execution_count": null,
   "id": "1805cae3",
   "metadata": {},
   "outputs": [],
   "source": []
  },
  {
   "cell_type": "code",
   "execution_count": null,
   "id": "cdd09c82",
   "metadata": {},
   "outputs": [],
   "source": []
  },
  {
   "cell_type": "code",
   "execution_count": null,
   "id": "8648bc70",
   "metadata": {},
   "outputs": [],
   "source": []
  },
  {
   "cell_type": "code",
   "execution_count": null,
   "id": "98067b9b",
   "metadata": {},
   "outputs": [],
   "source": []
  }
 ],
 "metadata": {
  "kernelspec": {
   "display_name": "Python 3 (ipykernel)",
   "language": "python",
   "name": "python3"
  },
  "language_info": {
   "codemirror_mode": {
    "name": "ipython",
    "version": 3
   },
   "file_extension": ".py",
   "mimetype": "text/x-python",
   "name": "python",
   "nbconvert_exporter": "python",
   "pygments_lexer": "ipython3",
   "version": "3.10.9"
  }
 },
 "nbformat": 4,
 "nbformat_minor": 5
}
