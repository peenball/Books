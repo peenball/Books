{
 "cells": [
  {
   "cell_type": "markdown",
   "id": "0efde0b6",
   "metadata": {},
   "source": [
    "# 15.0 소개"
   ]
  },
  {
   "cell_type": "markdown",
   "id": "acf888db",
   "metadata": {},
   "source": [
    "---"
   ]
  },
  {
   "cell_type": "markdown",
   "id": "9b3fd3ba",
   "metadata": {},
   "source": [
    "# 15.1 샘플의 최근접 이웃 찾기"
   ]
  },
  {
   "cell_type": "code",
   "execution_count": 2,
   "id": "198da061",
   "metadata": {},
   "outputs": [],
   "source": [
    "# 라이브러리를 임포트합니다\n",
    "from sklearn import datasets\n",
    "from sklearn.neighbors import NearestNeighbors\n",
    "from sklearn.preprocessing import StandardScaler"
   ]
  },
  {
   "cell_type": "code",
   "execution_count": 3,
   "id": "52f9c219",
   "metadata": {},
   "outputs": [],
   "source": [
    "# 데이터를 로드합니다\n",
    "iris = datasets.load_iris()\n",
    "features = iris.data"
   ]
  },
  {
   "cell_type": "code",
   "execution_count": 4,
   "id": "21230af3",
   "metadata": {},
   "outputs": [],
   "source": [
    "# 표준화 객체를 만듭니다\n",
    "standardizer = StandardScaler()"
   ]
  },
  {
   "cell_type": "code",
   "execution_count": 5,
   "id": "ff636090",
   "metadata": {},
   "outputs": [],
   "source": [
    "# 특성을 표준화합니다\n",
    "features_standardized = standardizer.fit_transform(features)"
   ]
  },
  {
   "cell_type": "code",
   "execution_count": 6,
   "id": "157c7ee8",
   "metadata": {},
   "outputs": [],
   "source": [
    "# k=2인 최근접 이웃 모델을 만듭니다\n",
    "nearest_neighbors = NearestNeighbors(n_neighbors=2).fit(features_standardized)"
   ]
  },
  {
   "cell_type": "code",
   "execution_count": 7,
   "id": "e5401375",
   "metadata": {},
   "outputs": [],
   "source": [
    "# 새로운 샘플을 만듭니다\n",
    "new_observation = [1,1,1,1]"
   ]
  },
  {
   "cell_type": "code",
   "execution_count": 8,
   "id": "7a5519c4",
   "metadata": {},
   "outputs": [],
   "source": [
    "# 이 샘플과 가장 가까운 이웃의 인덱스와 거리를 찾습니다\n",
    "distances, indices = nearest_neighbors.kneighbors([new_observation])"
   ]
  },
  {
   "cell_type": "code",
   "execution_count": 9,
   "id": "683e6b11",
   "metadata": {},
   "outputs": [
    {
     "data": {
      "text/plain": [
       "array([[[1.03800476, 0.55861082, 1.10378283, 1.18556721],\n",
       "        [0.79566902, 0.32841405, 0.76275827, 1.05393502]]])"
      ]
     },
     "execution_count": 9,
     "metadata": {},
     "output_type": "execute_result"
    }
   ],
   "source": [
    "# 최근접 이웃을 확인합니다\n",
    "features_standardized[indices]"
   ]
  },
  {
   "cell_type": "markdown",
   "id": "abbb4019",
   "metadata": {},
   "source": [
    "- metric 매개변수를 사용한 거리측정방법 지정"
   ]
  },
  {
   "cell_type": "code",
   "execution_count": 10,
   "id": "3dcaf9e3",
   "metadata": {},
   "outputs": [],
   "source": [
    "# 유클리드 거리 기반으로 가장 가까운 두 개의 최근접 이웃을 찾습니다\n",
    "nearestneighbors_euclidean = NearestNeighbors(n_neighbors=2, metric='euclidean').fit(features_standardized)"
   ]
  },
  {
   "cell_type": "code",
   "execution_count": 11,
   "id": "ab082edc",
   "metadata": {},
   "outputs": [
    {
     "data": {
      "text/plain": [
       "array([[0.49140089, 0.74294782]])"
      ]
     },
     "execution_count": 11,
     "metadata": {},
     "output_type": "execute_result"
    }
   ],
   "source": [
    "# 거리를 확인합니다\n",
    "distances"
   ]
  },
  {
   "cell_type": "markdown",
   "id": "7fd6286c",
   "metadata": {},
   "source": [
    "- kneighbors_graph 메서드를 사용하여 샘플의 최근접 이웃을 나타내는 행렬 만들기"
   ]
  },
  {
   "cell_type": "code",
   "execution_count": 12,
   "id": "36154deb",
   "metadata": {},
   "outputs": [],
   "source": [
    "# 유클리드 거리를 기반으로 각 샘플에 대해 (자기 자신을 포함한)\n",
    "# 세 개의 최근접 이웃을 찾습니다\n",
    "nearestneighbors_euclidean = NearestNeighbors(n_neighbors=3, metric='euclidean').fit(features_standardized)"
   ]
  },
  {
   "cell_type": "code",
   "execution_count": 14,
   "id": "60cf5dba",
   "metadata": {},
   "outputs": [],
   "source": [
    "# 각 샘플의 (자기 자신을 포함한) 3개의 최근접 이웃을 나타내는 리스트의 리스트\n",
    "nearest_neighbors_with_self = nearestneighbors_euclidean.kneighbors_graph(features_standardized).toarray()"
   ]
  },
  {
   "cell_type": "code",
   "execution_count": 17,
   "id": "43a6efe2",
   "metadata": {},
   "outputs": [],
   "source": [
    "# 최근접 이웃 중에서 1로 표시된 자기 자신을 제외시킵니다\n",
    "for i, x in enumerate(nearest_neighbors_with_self):\n",
    "    x[i]=0"
   ]
  },
  {
   "cell_type": "code",
   "execution_count": 18,
   "id": "6644edb6",
   "metadata": {},
   "outputs": [
    {
     "data": {
      "text/plain": [
       "array([0., 0., 0., 0., 0., 0., 0., 0., 0., 0., 0., 0., 0., 0., 0., 0., 0.,\n",
       "       1., 0., 0., 0., 0., 0., 0., 0., 0., 0., 1., 0., 0., 0., 0., 0., 0.,\n",
       "       0., 0., 0., 0., 0., 0., 0., 0., 0., 0., 0., 0., 0., 0., 0., 0., 0.,\n",
       "       0., 0., 0., 0., 0., 0., 0., 0., 0., 0., 0., 0., 0., 0., 0., 0., 0.,\n",
       "       0., 0., 0., 0., 0., 0., 0., 0., 0., 0., 0., 0., 0., 0., 0., 0., 0.,\n",
       "       0., 0., 0., 0., 0., 0., 0., 0., 0., 0., 0., 0., 0., 0., 0., 0., 0.,\n",
       "       0., 0., 0., 0., 0., 0., 0., 0., 0., 0., 0., 0., 0., 0., 0., 0., 0.,\n",
       "       0., 0., 0., 0., 0., 0., 0., 0., 0., 0., 0., 0., 0., 0., 0., 0., 0.,\n",
       "       0., 0., 0., 0., 0., 0., 0., 0., 0., 0., 0., 0., 0., 0.])"
      ]
     },
     "execution_count": 18,
     "metadata": {},
     "output_type": "execute_result"
    }
   ],
   "source": [
    "# 첫 번째 샘플에 대한 두 개의 최근접 이웃을 확인합니다\n",
    "nearest_neighbors_with_self[0]"
   ]
  },
  {
   "cell_type": "markdown",
   "id": "02319294",
   "metadata": {},
   "source": [
    "- StandardScaler 클래스를 사용하여 특성 표준화"
   ]
  },
  {
   "cell_type": "code",
   "execution_count": 19,
   "id": "b5184edb",
   "metadata": {},
   "outputs": [],
   "source": [
    "# 이 샘플과 가장 가까운 이웃의 다섯 개의 인덱스를 찾습니다\n",
    "indices = nearest_neighbors.kneighbors([new_observation], n_neighbors=5, return_distance=False)"
   ]
  },
  {
   "cell_type": "code",
   "execution_count": 20,
   "id": "0a51bfbc",
   "metadata": {},
   "outputs": [
    {
     "data": {
      "text/plain": [
       "array([[[1.03800476, 0.55861082, 1.10378283, 1.18556721],\n",
       "        [0.79566902, 0.32841405, 0.76275827, 1.05393502],\n",
       "        [0.4321654 , 0.78880759, 0.93327055, 1.44883158],\n",
       "        [0.55333328, 0.78880759, 1.0469454 , 1.58046376],\n",
       "        [1.03800476, 0.55861082, 1.10378283, 1.71209594]]])"
      ]
     },
     "execution_count": 20,
     "metadata": {},
     "output_type": "execute_result"
    }
   ],
   "source": [
    "# 최근접 이웃을 확인합니다\n",
    "features_standardized[indices]"
   ]
  },
  {
   "cell_type": "markdown",
   "id": "5e4b5a57",
   "metadata": {},
   "source": [
    "- radius_neighbors 메서드는 주어진 반경 내의 이웃을 모두 찾아줌"
   ]
  },
  {
   "cell_type": "code",
   "execution_count": 21,
   "id": "4e3739c6",
   "metadata": {},
   "outputs": [],
   "source": [
    "# 반경 0.5 안에 있는 모든 샘플의 인덱스를 찾습니다\n",
    "indices = nearest_neighbors.radius_neighbors([new_observation], radius=0.5, return_distance=False)"
   ]
  },
  {
   "cell_type": "code",
   "execution_count": 22,
   "id": "91d05841",
   "metadata": {},
   "outputs": [
    {
     "data": {
      "text/plain": [
       "array([[1.03800476, 0.55861082, 1.10378283, 1.18556721]])"
      ]
     },
     "execution_count": 22,
     "metadata": {},
     "output_type": "execute_result"
    }
   ],
   "source": [
    "# 반경 내의 이웃을 확인합니다\n",
    "features_standardized[indices[0]]"
   ]
  },
  {
   "cell_type": "markdown",
   "id": "1a15cc20",
   "metadata": {},
   "source": [
    "- kneighbors_graph 메서드와 마찬가지로, raduis_neighbors_graph를 사용하여 반경 내의 이웃을 나타내는 행렬 만들기"
   ]
  },
  {
   "cell_type": "code",
   "execution_count": 23,
   "id": "6e1fed5b",
   "metadata": {},
   "outputs": [],
   "source": [
    "# 반경 내의 이웃을 나타내는 리스트의 리스트\n",
    "nearest_neighbors_with_self = nearest_neighbors.radius_neighbors_graph([new_observation], radius=0.5).toarray()"
   ]
  },
  {
   "cell_type": "code",
   "execution_count": 24,
   "id": "8e9e545a",
   "metadata": {},
   "outputs": [
    {
     "data": {
      "text/plain": [
       "array([0., 0., 0., 0., 0., 0., 0., 0., 0., 0., 0., 0., 0., 0., 0., 0., 0.,\n",
       "       0., 0., 0., 0., 0., 0., 0., 0., 0., 0., 0., 0., 0., 0., 0., 0., 0.,\n",
       "       0., 0., 0., 0., 0., 0., 0., 0., 0., 0., 0., 0., 0., 0., 0., 0., 0.,\n",
       "       0., 0., 0., 0., 0., 0., 0., 0., 0., 0., 0., 0., 0., 0., 0., 0., 0.,\n",
       "       0., 0., 0., 0., 0., 0., 0., 0., 0., 0., 0., 0., 0., 0., 0., 0., 0.,\n",
       "       0., 0., 0., 0., 0., 0., 0., 0., 0., 0., 0., 0., 0., 0., 0., 0., 0.,\n",
       "       0., 0., 0., 0., 0., 0., 0., 0., 0., 0., 0., 0., 0., 0., 0., 0., 0.,\n",
       "       0., 0., 0., 0., 0., 1., 0., 0., 0., 0., 0., 0., 0., 0., 0., 0., 0.,\n",
       "       0., 0., 0., 0., 0., 0., 0., 0., 0., 0., 0., 0., 0., 0.])"
      ]
     },
     "execution_count": 24,
     "metadata": {},
     "output_type": "execute_result"
    }
   ],
   "source": [
    "# 첫 번째 샘플에 대한 반경 내의 이웃을 확인합니다\n",
    "nearest_neighbors_with_self[0]"
   ]
  },
  {
   "cell_type": "markdown",
   "id": "b107debf",
   "metadata": {},
   "source": [
    "---"
   ]
  },
  {
   "cell_type": "markdown",
   "id": "50be1651",
   "metadata": {},
   "source": [
    "# 15.2 k-최근접 이웃 분류기 만들기"
   ]
  },
  {
   "cell_type": "code",
   "execution_count": 25,
   "id": "71c7be49",
   "metadata": {},
   "outputs": [],
   "source": [
    "# 라이브ㅓ리를 임포트합니다\n",
    "from sklearn.neighbors import KNeighborsClassifier\n",
    "from sklearn.preprocessing import StandardScaler\n",
    "from sklearn import datasets"
   ]
  },
  {
   "cell_type": "code",
   "execution_count": 26,
   "id": "bc293726",
   "metadata": {},
   "outputs": [],
   "source": [
    "# 데이터를 로드합니다\n",
    "iris = datasets.load_iris()\n",
    "x = iris.data\n",
    "y = iris.target"
   ]
  },
  {
   "cell_type": "code",
   "execution_count": 27,
   "id": "4c9d74b9",
   "metadata": {},
   "outputs": [],
   "source": [
    "# 표준화 객체를 만듭니다\n",
    "standardizer = StandardScaler()"
   ]
  },
  {
   "cell_type": "code",
   "execution_count": 28,
   "id": "7db57d74",
   "metadata": {},
   "outputs": [],
   "source": [
    "# 특성을 표준화합니다\n",
    "X_std = standardizer.fit_transform(x)"
   ]
  },
  {
   "cell_type": "code",
   "execution_count": 29,
   "id": "b7b878eb",
   "metadata": {},
   "outputs": [],
   "source": [
    "# 5개의 이웃을 사용한 KNN 분류기를 훈련합니다\n",
    "knn = KNeighborsClassifier(n_neighbors=5, n_jobs=-1).fit(X_std, y)"
   ]
  },
  {
   "cell_type": "code",
   "execution_count": 30,
   "id": "24e81044",
   "metadata": {},
   "outputs": [],
   "source": [
    "# 두 개의 샘플을 만듭니다\n",
    "new_observations = [[0.75, 0.75, 0.75, 0.75], [1,1,1,1]]"
   ]
  },
  {
   "cell_type": "code",
   "execution_count": 31,
   "id": "22520f9a",
   "metadata": {},
   "outputs": [
    {
     "data": {
      "text/plain": [
       "array([1, 2])"
      ]
     },
     "execution_count": 31,
     "metadata": {},
     "output_type": "execute_result"
    }
   ],
   "source": [
    "# 두 샘플의 클래스를 예측합니다\n",
    "knn.predict(new_observations)"
   ]
  },
  {
   "cell_type": "markdown",
   "id": "0962c790",
   "metadata": {},
   "source": [
    "- predict_proba 메서드를 사용하여 확률 출력"
   ]
  },
  {
   "cell_type": "code",
   "execution_count": 33,
   "id": "309221c7",
   "metadata": {},
   "outputs": [
    {
     "data": {
      "text/plain": [
       "array([[0. , 0.6, 0.4],\n",
       "       [0. , 0. , 1. ]])"
      ]
     },
     "execution_count": 33,
     "metadata": {},
     "output_type": "execute_result"
    }
   ],
   "source": [
    "# 각 샘플이 세 클래스에 속할 확률을 확인합니다\n",
    "knn.predict_proba(new_observations)"
   ]
  },
  {
   "cell_type": "markdown",
   "id": "6a138a55",
   "metadata": {},
   "source": [
    "- predict 메서드로 얻은 것과 동일"
   ]
  },
  {
   "cell_type": "code",
   "execution_count": 34,
   "id": "fa101599",
   "metadata": {},
   "outputs": [
    {
     "data": {
      "text/plain": [
       "array([1, 2])"
      ]
     },
     "execution_count": 34,
     "metadata": {},
     "output_type": "execute_result"
    }
   ],
   "source": [
    "knn.predict(new_observations)"
   ]
  },
  {
   "cell_type": "markdown",
   "id": "59d28391",
   "metadata": {},
   "source": [
    "- 회귀 문제에는 KNeighborsRegressor 클래스 사용 가능"
   ]
  },
  {
   "cell_type": "code",
   "execution_count": 37,
   "id": "70249166",
   "metadata": {},
   "outputs": [],
   "source": [
    "# 라이브러리를 임포트합니다\n",
    "from sklearn.neighbors import KNeighborsRegressor\n",
    "from sklearn import datasets\n",
    "from sklearn.datasets import fetch_california_housing"
   ]
  },
  {
   "cell_type": "code",
   "execution_count": 38,
   "id": "e93e4d20",
   "metadata": {},
   "outputs": [],
   "source": [
    "# 데이터를 로드하고 두 개의 특성만 선택합니다\n",
    "housing = fetch_california_housing()\n",
    "features = housing.data[:,0:2]\n",
    "target = housing.target"
   ]
  },
  {
   "cell_type": "code",
   "execution_count": 40,
   "id": "24d6de34",
   "metadata": {},
   "outputs": [],
   "source": [
    "# 최근접 회귀 모델을 만듭니다\n",
    "knn_regressor = KNeighborsRegressor(n_neighbors=10)"
   ]
  },
  {
   "cell_type": "code",
   "execution_count": 41,
   "id": "aa1206c1",
   "metadata": {},
   "outputs": [],
   "source": [
    "# 모델을 훈련합니다\n",
    "model = knn_regressor.fit(features, target)"
   ]
  },
  {
   "cell_type": "code",
   "execution_count": 42,
   "id": "8590ade4",
   "metadata": {},
   "outputs": [
    {
     "data": {
      "text/plain": [
       "4936.307999999999"
      ]
     },
     "execution_count": 42,
     "metadata": {},
     "output_type": "execute_result"
    }
   ],
   "source": [
    "# 첫 번째 샘플의 타겟값을 예측하고 1000을 곱합니다\n",
    "model.predict(features[0:1])[0]*1000"
   ]
  },
  {
   "cell_type": "markdown",
   "id": "8922e1b0",
   "metadata": {},
   "source": [
    "- 첫번째 샘플에 대한 이웃의 타겟값을 평균하여 predict 메서드의 결과와 비교"
   ]
  },
  {
   "cell_type": "code",
   "execution_count": 43,
   "id": "1ed4e32e",
   "metadata": {},
   "outputs": [
    {
     "data": {
      "text/plain": [
       "4936.307999999999"
      ]
     },
     "execution_count": 43,
     "metadata": {},
     "output_type": "execute_result"
    }
   ],
   "source": [
    "import numpy as np\n",
    "\n",
    "indices = model.kneighbors(features[0:1], return_distance=False)\n",
    "np.mean(target[indices]) * 1000"
   ]
  },
  {
   "cell_type": "markdown",
   "id": "1e1acd52",
   "metadata": {},
   "source": [
    "---"
   ]
  },
  {
   "cell_type": "markdown",
   "id": "0e7b8622",
   "metadata": {},
   "source": [
    "# 15.3 최선의 이웃 개수 결정하기"
   ]
  },
  {
   "cell_type": "code",
   "execution_count": 52,
   "id": "9b390773",
   "metadata": {},
   "outputs": [],
   "source": [
    "# 라이브러리를 임포트합니다.\n",
    "from sklearn.neighbors import KNeighborsClassifier\n",
    "from sklearn import datasets\n",
    "from sklearn.preprocessing import StandardScaler\n",
    "from sklearn.pipeline import Pipeline, FeatureUnion\n",
    "from sklearn.model_selection import GridSearchCV"
   ]
  },
  {
   "cell_type": "code",
   "execution_count": 53,
   "id": "d8768b07",
   "metadata": {},
   "outputs": [],
   "source": [
    "# 데이터를 로드합니다\n",
    "iris = datasets.load_iris()\n",
    "features = iris.data\n",
    "target   = iris.target"
   ]
  },
  {
   "cell_type": "code",
   "execution_count": 54,
   "id": "14742d14",
   "metadata": {},
   "outputs": [],
   "source": [
    "# 표준화 객체를 만듭니다.\n",
    "standardizer = StandardScaler()"
   ]
  },
  {
   "cell_type": "code",
   "execution_count": 55,
   "id": "4dd568af",
   "metadata": {},
   "outputs": [],
   "source": [
    "# KNN 분류기를 만듭니다.\n",
    "knn = KNeighborsClassifier(n_neighbors=5, n_jobs=-1)"
   ]
  },
  {
   "cell_type": "code",
   "execution_count": 56,
   "id": "ad1f8d39",
   "metadata": {},
   "outputs": [],
   "source": [
    "# 파이프라인을 만듭니다.\n",
    "pipe = Pipeline([(\"standardizer\", standardizer), (\"knn\", knn)])"
   ]
  },
  {
   "cell_type": "code",
   "execution_count": 57,
   "id": "a3b3d260",
   "metadata": {},
   "outputs": [],
   "source": [
    "# 탐색 영역의 후보를 만듭니다\n",
    "search_space = [{'knn__n_neighbors':[1,2,3,4,5,6,7,8,9,10]}]"
   ]
  },
  {
   "cell_type": "code",
   "execution_count": 58,
   "id": "7cfc8253",
   "metadata": {},
   "outputs": [],
   "source": [
    "# 그리드 서치를 만듭니다\n",
    "classifier = GridSearchCV(pipe, search_space, cv=5, verbose=0).fit(features, target)"
   ]
  },
  {
   "cell_type": "code",
   "execution_count": 60,
   "id": "a0f5981e",
   "metadata": {},
   "outputs": [
    {
     "data": {
      "text/plain": [
       "6"
      ]
     },
     "execution_count": 60,
     "metadata": {},
     "output_type": "execute_result"
    }
   ],
   "source": [
    "# 최선의 이웃 개수 (k)\n",
    "classifier.best_estimator_.get_params()['knn__n_neighbors']"
   ]
  },
  {
   "cell_type": "markdown",
   "id": "0cb8a8dc",
   "metadata": {},
   "source": [
    "# 15.4 반지름 기반의 최근접 이웃 분류기 만들기"
   ]
  },
  {
   "cell_type": "code",
   "execution_count": 62,
   "id": "5b9950ca",
   "metadata": {},
   "outputs": [],
   "source": [
    "# 라이브러리를 임포트합니다\n",
    "from sklearn.neighbors import RadiusNeighborsClassifier\n",
    "from sklearn.preprocessing import StandardScaler\n",
    "from sklearn import datasets"
   ]
  },
  {
   "cell_type": "code",
   "execution_count": 63,
   "id": "2315cc4d",
   "metadata": {},
   "outputs": [],
   "source": [
    "# 데이터를 로드합니다\n",
    "iris = datasets.load_iris()\n",
    "features = iris.data\n",
    "target   = iris.target"
   ]
  },
  {
   "cell_type": "code",
   "execution_count": 64,
   "id": "1f4bf8fc",
   "metadata": {},
   "outputs": [],
   "source": [
    "# 표준화 객체를 만듭니다\n",
    "standardizer = StandardScaler()"
   ]
  },
  {
   "cell_type": "code",
   "execution_count": 65,
   "id": "cdf8f224",
   "metadata": {},
   "outputs": [],
   "source": [
    "# 특성을 표준화합니다\n",
    "features_standardized = standardizer.fit_transform(features)"
   ]
  },
  {
   "cell_type": "code",
   "execution_count": 66,
   "id": "06ec795e",
   "metadata": {},
   "outputs": [],
   "source": [
    "# 반지름 이웃 분류기를 훈련합니다\n",
    "rnn = RadiusNeighborsClassifier(radius=.5, n_jobs=-1).fit(features_standardized, target)"
   ]
  },
  {
   "cell_type": "code",
   "execution_count": 67,
   "id": "c851397d",
   "metadata": {},
   "outputs": [],
   "source": [
    "# 두 개의 샘플을 만듭니다\n",
    "new_observations = [[1,1,1,1]]"
   ]
  },
  {
   "cell_type": "code",
   "execution_count": 68,
   "id": "02bc0cee",
   "metadata": {},
   "outputs": [
    {
     "data": {
      "text/plain": [
       "array([2])"
      ]
     },
     "execution_count": 68,
     "metadata": {},
     "output_type": "execute_result"
    }
   ],
   "source": [
    "# 두 샘플의 클래스를 예측합니다\n",
    "rnn.predict(new_observations)"
   ]
  },
  {
   "cell_type": "markdown",
   "id": "c10ca528",
   "metadata": {},
   "source": [
    "- 이웃한 샘플을 찾지 못랄 경우 예외를 일으키는 대신 이상치로 표시"
   ]
  },
  {
   "cell_type": "code",
   "execution_count": 70,
   "id": "5e4a1eb5",
   "metadata": {},
   "outputs": [],
   "source": [
    "# 반지름 이웃 분류기를 훈련합니다\n",
    "rnn = RadiusNeighborsClassifier(radius=.5, outlier_label=-1, n_jobs=-1).fit(features_standardized, target)"
   ]
  },
  {
   "cell_type": "code",
   "execution_count": 72,
   "id": "6f2e776e",
   "metadata": {},
   "outputs": [],
   "source": [
    "# 두 개의 샘플을 만듭니다\n",
    "new_observations = [[100,100,100,100]]"
   ]
  },
  {
   "cell_type": "code",
   "execution_count": 73,
   "id": "8ad02826",
   "metadata": {},
   "outputs": [
    {
     "name": "stderr",
     "output_type": "stream",
     "text": [
      "C:\\Users\\hyojin\\anaconda3\\lib\\site-packages\\sklearn\\neighbors\\_classification.py:693: UserWarning: Outlier label -1 is not in training classes. All class probabilities of outliers will be assigned with 0.\n",
      "  warnings.warn(\n"
     ]
    },
    {
     "data": {
      "text/plain": [
       "array([-1])"
      ]
     },
     "execution_count": 73,
     "metadata": {},
     "output_type": "execute_result"
    }
   ],
   "source": [
    "# 두 샘플의 클래스를 예측합니다\n",
    "rnn.predict(new_observations)"
   ]
  },
  {
   "cell_type": "code",
   "execution_count": null,
   "id": "83ae1c52",
   "metadata": {},
   "outputs": [],
   "source": []
  },
  {
   "cell_type": "code",
   "execution_count": null,
   "id": "7750cc3c",
   "metadata": {},
   "outputs": [],
   "source": []
  },
  {
   "cell_type": "code",
   "execution_count": null,
   "id": "01587d6c",
   "metadata": {},
   "outputs": [],
   "source": []
  },
  {
   "cell_type": "code",
   "execution_count": null,
   "id": "ec8838d6",
   "metadata": {},
   "outputs": [],
   "source": []
  }
 ],
 "metadata": {
  "kernelspec": {
   "display_name": "Python 3 (ipykernel)",
   "language": "python",
   "name": "python3"
  },
  "language_info": {
   "codemirror_mode": {
    "name": "ipython",
    "version": 3
   },
   "file_extension": ".py",
   "mimetype": "text/x-python",
   "name": "python",
   "nbconvert_exporter": "python",
   "pygments_lexer": "ipython3",
   "version": "3.10.9"
  }
 },
 "nbformat": 4,
 "nbformat_minor": 5
}
