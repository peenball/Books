{
 "cells": [
  {
   "cell_type": "markdown",
   "id": "a695b013",
   "metadata": {},
   "source": [
    "# 4.0 소개"
   ]
  },
  {
   "cell_type": "markdown",
   "id": "e69f279c",
   "metadata": {},
   "source": [
    "---"
   ]
  },
  {
   "cell_type": "markdown",
   "id": "7b698de9",
   "metadata": {},
   "source": [
    "# 4.1 특성 스케일 바꾸기\n",
    "- 수치형 특성이 두 값의 범위 안에 놓이도록 스케일(scale)을 바꿔야 합니다"
   ]
  },
  {
   "cell_type": "code",
   "execution_count": 1,
   "id": "092bc280",
   "metadata": {},
   "outputs": [],
   "source": [
    "# 라이브러리를 임포트합니다\n",
    "import numpy as np\n",
    "from sklearn import preprocessing"
   ]
  },
  {
   "cell_type": "code",
   "execution_count": 6,
   "id": "48adf27d",
   "metadata": {},
   "outputs": [],
   "source": [
    "# 특성을 만듭니다\n",
    "feature = np.array([[-500.5],[-100.1],[0],[100.1],[900.9]])"
   ]
  },
  {
   "cell_type": "code",
   "execution_count": 7,
   "id": "f48ea687",
   "metadata": {},
   "outputs": [],
   "source": [
    "# 스케일러의 객체를 만듭니다\n",
    "minmax_scale = preprocessing.MinMaxScaler(feature_range=(0,1))"
   ]
  },
  {
   "cell_type": "code",
   "execution_count": 8,
   "id": "6c88daa4",
   "metadata": {},
   "outputs": [],
   "source": [
    "# 특성의 스케일을 변환합니다\n",
    "scaled_feature = minmax_scale.fit_transform(feature)"
   ]
  },
  {
   "cell_type": "code",
   "execution_count": 9,
   "id": "c86f6898",
   "metadata": {},
   "outputs": [
    {
     "data": {
      "text/plain": [
       "array([[0.        ],\n",
       "       [0.28571429],\n",
       "       [0.35714286],\n",
       "       [0.42857143],\n",
       "       [1.        ]])"
      ]
     },
     "execution_count": 9,
     "metadata": {},
     "output_type": "execute_result"
    }
   ],
   "source": [
    "# 특성을 출력합니다\n",
    "scaled_feature"
   ]
  },
  {
   "cell_type": "markdown",
   "id": "55e8ff73",
   "metadata": {},
   "source": [
    "- 다른 방식 코딩 (1)"
   ]
  },
  {
   "cell_type": "code",
   "execution_count": 11,
   "id": "67439d7c",
   "metadata": {},
   "outputs": [
    {
     "data": {
      "text/plain": [
       "array([[0.        ],\n",
       "       [0.28571429],\n",
       "       [0.35714286],\n",
       "       [0.42857143],\n",
       "       [1.        ]])"
      ]
     },
     "execution_count": 11,
     "metadata": {},
     "output_type": "execute_result"
    }
   ],
   "source": [
    "from sklearn.preprocessing import MinMaxScaler\n",
    "minmax_scale = MinMaxScaler(feature_range=(0,1))\n",
    "scaled_feature = minmax_scale.fit_transform(feature)\n",
    "scaled_feature"
   ]
  },
  {
   "cell_type": "markdown",
   "id": "09ae54d3",
   "metadata": {},
   "source": [
    "- 다른 방식 코딩 (2)"
   ]
  },
  {
   "cell_type": "code",
   "execution_count": 12,
   "id": "3c7ec43a",
   "metadata": {},
   "outputs": [
    {
     "data": {
      "text/plain": [
       "array([[0.        ],\n",
       "       [0.28571429],\n",
       "       [0.35714286],\n",
       "       [0.42857143],\n",
       "       [1.        ]])"
      ]
     },
     "execution_count": 12,
     "metadata": {},
     "output_type": "execute_result"
    }
   ],
   "source": [
    "from sklearn.preprocessing import MinMaxScaler\n",
    "scaled_feature = MinMaxScaler(feature_range=(0,1)).fit_transform(feature)\n",
    "scaled_feature"
   ]
  },
  {
   "cell_type": "markdown",
   "id": "d22f7b71",
   "metadata": {},
   "source": [
    "- 훈련 세트와 테스트 세트의 스케일을 따로 조정하면 안됨"
   ]
  },
  {
   "cell_type": "code",
   "execution_count": 14,
   "id": "f9326e98",
   "metadata": {},
   "outputs": [
    {
     "data": {
      "text/plain": [
       "array([[0. ],\n",
       "       [0.8],\n",
       "       [1. ]])"
      ]
     },
     "execution_count": 14,
     "metadata": {},
     "output_type": "execute_result"
    }
   ],
   "source": [
    "# 훈련 세트를 변환합니다\n",
    "preprocessing.MinMaxScaler().fit_transform(feature[:3])"
   ]
  },
  {
   "cell_type": "code",
   "execution_count": 15,
   "id": "bbef2596",
   "metadata": {},
   "outputs": [
    {
     "data": {
      "text/plain": [
       "array([[0.],\n",
       "       [1.]])"
      ]
     },
     "execution_count": 15,
     "metadata": {},
     "output_type": "execute_result"
    }
   ],
   "source": [
    "# 테스트 세트를 변환합니다\n",
    "preprocessing.MinMaxScaler().fit_transform(feature[3:])"
   ]
  },
  {
   "cell_type": "markdown",
   "id": "e09f9a05",
   "metadata": {},
   "source": [
    "- 같이 스케일링 하는 케이스"
   ]
  },
  {
   "cell_type": "code",
   "execution_count": 17,
   "id": "a9480082",
   "metadata": {},
   "outputs": [
    {
     "data": {
      "text/plain": [
       "array([[0. ],\n",
       "       [0.8],\n",
       "       [1. ]])"
      ]
     },
     "execution_count": 17,
     "metadata": {},
     "output_type": "execute_result"
    }
   ],
   "source": [
    "# 훈련 세트로 변환기를 학습합니다\n",
    "scaler = preprocessing.MinMaxScaler().fit(feature[:3])\n",
    "scaler.transform(feature[:3])"
   ]
  },
  {
   "cell_type": "code",
   "execution_count": 18,
   "id": "ca0c95c4",
   "metadata": {},
   "outputs": [
    {
     "data": {
      "text/plain": [
       "array([[1.2],\n",
       "       [2.8]])"
      ]
     },
     "execution_count": 18,
     "metadata": {},
     "output_type": "execute_result"
    }
   ],
   "source": [
    "# 훈련 세트에서 학습한 변환기로 테스트 세트를 변환합니다\n",
    "scaler.transform(feature[3:])"
   ]
  },
  {
   "cell_type": "markdown",
   "id": "cbfad4ab",
   "metadata": {},
   "source": [
    "# 4.2 특성을 표준화하기\n",
    "- 특성을 평균이 0이고 표준편차가 1이 되도록 변환해야 합니다"
   ]
  },
  {
   "cell_type": "code",
   "execution_count": 19,
   "id": "b632b0c4",
   "metadata": {},
   "outputs": [],
   "source": [
    "# 라이브러리를 임포트합니다\n",
    "import numpy as np\n",
    "from sklearn import preprocessing"
   ]
  },
  {
   "cell_type": "code",
   "execution_count": 20,
   "id": "ecadd979",
   "metadata": {},
   "outputs": [],
   "source": [
    "# 특성을 만듭니다\n",
    "x = np.array([[-1000.1],[-200.2],[500.5],[600.6],[9000.9]])"
   ]
  },
  {
   "cell_type": "code",
   "execution_count": 21,
   "id": "9974b108",
   "metadata": {},
   "outputs": [],
   "source": [
    "# 변환기 객체를 만듭니다\n",
    "scaler = preprocessing.StandardScaler()"
   ]
  },
  {
   "cell_type": "code",
   "execution_count": 22,
   "id": "3240a88a",
   "metadata": {},
   "outputs": [],
   "source": [
    "# 특성을 변환합니다.\n",
    "standardized = scaler.fit_transform(x)"
   ]
  },
  {
   "cell_type": "code",
   "execution_count": 23,
   "id": "47b62ecd",
   "metadata": {},
   "outputs": [
    {
     "data": {
      "text/plain": [
       "array([[-0.76058269],\n",
       "       [-0.54177196],\n",
       "       [-0.35009716],\n",
       "       [-0.32271504],\n",
       "       [ 1.97516685]])"
      ]
     },
     "execution_count": 23,
     "metadata": {},
     "output_type": "execute_result"
    }
   ],
   "source": [
    "# 특성을 출력합니다\n",
    "standardized"
   ]
  },
  {
   "cell_type": "markdown",
   "id": "a77a1717",
   "metadata": {},
   "source": [
    "- 표준화 효과 확인"
   ]
  },
  {
   "cell_type": "code",
   "execution_count": 25,
   "id": "4542f223",
   "metadata": {},
   "outputs": [
    {
     "name": "stdout",
     "output_type": "stream",
     "text": [
      "평균     :  0\n",
      "표준편차 :  1\n"
     ]
    }
   ],
   "source": [
    "# 평균과 표준편차를 출력\n",
    "print('평균     : ', round(standardized.mean()))\n",
    "print('표준편차 : ', round(standardized.std()))"
   ]
  },
  {
   "cell_type": "code",
   "execution_count": null,
   "id": "bf91677b",
   "metadata": {},
   "outputs": [],
   "source": []
  },
  {
   "cell_type": "code",
   "execution_count": null,
   "id": "cd7f15db",
   "metadata": {},
   "outputs": [],
   "source": []
  },
  {
   "cell_type": "code",
   "execution_count": null,
   "id": "177840a0",
   "metadata": {},
   "outputs": [],
   "source": []
  },
  {
   "cell_type": "code",
   "execution_count": null,
   "id": "bb12b7f5",
   "metadata": {},
   "outputs": [],
   "source": []
  },
  {
   "cell_type": "code",
   "execution_count": null,
   "id": "4f9a3951",
   "metadata": {},
   "outputs": [],
   "source": []
  },
  {
   "cell_type": "code",
   "execution_count": null,
   "id": "d029cd9b",
   "metadata": {},
   "outputs": [],
   "source": []
  },
  {
   "cell_type": "code",
   "execution_count": null,
   "id": "4633559a",
   "metadata": {},
   "outputs": [],
   "source": []
  },
  {
   "cell_type": "code",
   "execution_count": null,
   "id": "e2c0abb6",
   "metadata": {},
   "outputs": [],
   "source": []
  },
  {
   "cell_type": "code",
   "execution_count": null,
   "id": "afc321ac",
   "metadata": {},
   "outputs": [],
   "source": []
  },
  {
   "cell_type": "code",
   "execution_count": null,
   "id": "270ade8e",
   "metadata": {},
   "outputs": [],
   "source": []
  },
  {
   "cell_type": "code",
   "execution_count": null,
   "id": "46f4822b",
   "metadata": {},
   "outputs": [],
   "source": []
  },
  {
   "cell_type": "code",
   "execution_count": null,
   "id": "928d3827",
   "metadata": {},
   "outputs": [],
   "source": []
  },
  {
   "cell_type": "code",
   "execution_count": null,
   "id": "9296faab",
   "metadata": {},
   "outputs": [],
   "source": []
  },
  {
   "cell_type": "code",
   "execution_count": null,
   "id": "64c8b17c",
   "metadata": {},
   "outputs": [],
   "source": []
  },
  {
   "cell_type": "code",
   "execution_count": null,
   "id": "b687ba0b",
   "metadata": {},
   "outputs": [],
   "source": []
  },
  {
   "cell_type": "code",
   "execution_count": null,
   "id": "b7446388",
   "metadata": {},
   "outputs": [],
   "source": []
  },
  {
   "cell_type": "code",
   "execution_count": null,
   "id": "b810b72b",
   "metadata": {},
   "outputs": [],
   "source": []
  },
  {
   "cell_type": "code",
   "execution_count": null,
   "id": "e8932b6b",
   "metadata": {},
   "outputs": [],
   "source": []
  },
  {
   "cell_type": "code",
   "execution_count": null,
   "id": "5c40eb12",
   "metadata": {},
   "outputs": [],
   "source": []
  },
  {
   "cell_type": "code",
   "execution_count": null,
   "id": "59705a0d",
   "metadata": {},
   "outputs": [],
   "source": []
  },
  {
   "cell_type": "code",
   "execution_count": null,
   "id": "7099fa29",
   "metadata": {},
   "outputs": [],
   "source": []
  },
  {
   "cell_type": "code",
   "execution_count": null,
   "id": "2a56ddc2",
   "metadata": {},
   "outputs": [],
   "source": []
  },
  {
   "cell_type": "code",
   "execution_count": null,
   "id": "8b88a150",
   "metadata": {},
   "outputs": [],
   "source": []
  },
  {
   "cell_type": "code",
   "execution_count": null,
   "id": "e83a9d57",
   "metadata": {},
   "outputs": [],
   "source": []
  },
  {
   "cell_type": "code",
   "execution_count": null,
   "id": "2529c2c4",
   "metadata": {},
   "outputs": [],
   "source": []
  },
  {
   "cell_type": "code",
   "execution_count": null,
   "id": "80337f07",
   "metadata": {},
   "outputs": [],
   "source": []
  },
  {
   "cell_type": "code",
   "execution_count": null,
   "id": "dc66abc1",
   "metadata": {},
   "outputs": [],
   "source": []
  },
  {
   "cell_type": "code",
   "execution_count": null,
   "id": "61c2efeb",
   "metadata": {},
   "outputs": [],
   "source": []
  },
  {
   "cell_type": "code",
   "execution_count": null,
   "id": "a071ed55",
   "metadata": {},
   "outputs": [],
   "source": []
  },
  {
   "cell_type": "code",
   "execution_count": null,
   "id": "283bef19",
   "metadata": {},
   "outputs": [],
   "source": []
  },
  {
   "cell_type": "code",
   "execution_count": null,
   "id": "c2bff73d",
   "metadata": {},
   "outputs": [],
   "source": []
  }
 ],
 "metadata": {
  "kernelspec": {
   "display_name": "Python 3 (ipykernel)",
   "language": "python",
   "name": "python3"
  },
  "language_info": {
   "codemirror_mode": {
    "name": "ipython",
    "version": 3
   },
   "file_extension": ".py",
   "mimetype": "text/x-python",
   "name": "python",
   "nbconvert_exporter": "python",
   "pygments_lexer": "ipython3",
   "version": "3.10.9"
  }
 },
 "nbformat": 4,
 "nbformat_minor": 5
}
