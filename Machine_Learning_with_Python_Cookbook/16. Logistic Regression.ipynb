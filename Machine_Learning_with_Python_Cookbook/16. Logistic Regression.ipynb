{
 "cells": [
  {
   "cell_type": "markdown",
   "id": "b7e6705b",
   "metadata": {},
   "source": [
    "# 16.0 소개"
   ]
  },
  {
   "cell_type": "markdown",
   "id": "2b0bf8e0",
   "metadata": {},
   "source": [
    "---"
   ]
  },
  {
   "cell_type": "markdown",
   "id": "d3e5304f",
   "metadata": {},
   "source": [
    "# 16.1 이진 분류기 훈련하기"
   ]
  },
  {
   "cell_type": "code",
   "execution_count": 1,
   "id": "2737c815",
   "metadata": {},
   "outputs": [],
   "source": [
    "# 라이브러리를 임포트합니다\n",
    "from sklearn.linear_model import LogisticRegression\n",
    "from sklearn import datasets\n",
    "from sklearn.preprocessing import StandardScaler"
   ]
  },
  {
   "cell_type": "code",
   "execution_count": 3,
   "id": "3a7616ca",
   "metadata": {},
   "outputs": [],
   "source": [
    "# 데이터를 로드하고 두 개의 클래스만 선택합니다\n",
    "iris = datasets.load_iris()\n",
    "features = iris.data[:100,:]\n",
    "target   = iris.target[:100]"
   ]
  },
  {
   "cell_type": "code",
   "execution_count": 8,
   "id": "57ca66cf",
   "metadata": {},
   "outputs": [],
   "source": [
    "# 특성을 표준화합니다\n",
    "scaler = StandardScaler()\n",
    "features_standardized = scaler.fit_transform(features)"
   ]
  },
  {
   "cell_type": "code",
   "execution_count": 9,
   "id": "8404066c",
   "metadata": {},
   "outputs": [],
   "source": [
    "# 로지스틱 회귀 모델을 만듭니다\n",
    "logistic_regression = LogisticRegression(random_state=0)"
   ]
  },
  {
   "cell_type": "code",
   "execution_count": 11,
   "id": "cc0f674f",
   "metadata": {},
   "outputs": [],
   "source": [
    "# 모델을 훈련합니다\n",
    "model = logistic_regression.fit(features_standardized, target)"
   ]
  },
  {
   "cell_type": "markdown",
   "id": "4d37f3e4",
   "metadata": {},
   "source": [
    "- 훈련이 끝나고 새로운 샘플의 클래스 예측"
   ]
  },
  {
   "cell_type": "code",
   "execution_count": 15,
   "id": "c99bd466",
   "metadata": {},
   "outputs": [],
   "source": [
    "# 새로운 샘플을 만듭니다\n",
    "new_observation = [[.5,.5,.5,.5]]"
   ]
  },
  {
   "cell_type": "code",
   "execution_count": 16,
   "id": "8646875e",
   "metadata": {},
   "outputs": [
    {
     "data": {
      "text/plain": [
       "array([1])"
      ]
     },
     "execution_count": 16,
     "metadata": {},
     "output_type": "execute_result"
    }
   ],
   "source": [
    "# 클래스를 예측합니다\n",
    "model.predict(new_observation)"
   ]
  },
  {
   "cell_type": "code",
   "execution_count": 17,
   "id": "0feeb814",
   "metadata": {},
   "outputs": [
    {
     "data": {
      "text/plain": [
       "array([[0.17738424, 0.82261576]])"
      ]
     },
     "execution_count": 17,
     "metadata": {},
     "output_type": "execute_result"
    }
   ],
   "source": [
    "# 예측 확률을 확인합니다\n",
    "model.predict_proba(new_observation)"
   ]
  },
  {
   "cell_type": "markdown",
   "id": "3af93bbd",
   "metadata": {},
   "source": [
    "---"
   ]
  },
  {
   "cell_type": "markdown",
   "id": "ac8e4e54",
   "metadata": {},
   "source": [
    "# 16.2 다중 클래스 분류기 훈련하기"
   ]
  },
  {
   "cell_type": "code",
   "execution_count": 18,
   "id": "c95cb81f",
   "metadata": {},
   "outputs": [],
   "source": [
    "# 라이브러리를 임포트합니다\n",
    "from sklearn.linear_model import LogisticRegression\n",
    "from sklearn import datasets\n",
    "from sklearn.preprocessing import StandardScaler"
   ]
  },
  {
   "cell_type": "code",
   "execution_count": 19,
   "id": "c7446978",
   "metadata": {},
   "outputs": [],
   "source": [
    "# 데이터를 로드합니다\n",
    "iris = datasets.load_iris()\n",
    "features = iris.data\n",
    "target   = iris.target"
   ]
  },
  {
   "cell_type": "code",
   "execution_count": 20,
   "id": "1e1a435a",
   "metadata": {},
   "outputs": [],
   "source": [
    "# 특성을 표준화합니다\n",
    "scaler = StandardScaler()\n",
    "features_standardized = scaler.fit_transform(features)"
   ]
  },
  {
   "cell_type": "code",
   "execution_count": null,
   "id": "395575cb",
   "metadata": {},
   "outputs": [],
   "source": [
    "# OVR 로지스틱 회귀 모델을 만듭니다.\n",
    "logistic_regression = LogisticRegression(ran)"
   ]
  },
  {
   "cell_type": "code",
   "execution_count": 21,
   "id": "89616c24",
   "metadata": {},
   "outputs": [],
   "source": [
    "# 모델을 훈련합니다\n",
    "model = logistic_regression.fit(features_standardized, target)"
   ]
  },
  {
   "cell_type": "markdown",
   "id": "95b86d05",
   "metadata": {},
   "source": [
    "---"
   ]
  },
  {
   "cell_type": "markdown",
   "id": "34d04afc",
   "metadata": {},
   "source": [
    "# 16.3 규제로 분산 줄이기"
   ]
  },
  {
   "cell_type": "code",
   "execution_count": 22,
   "id": "e9757913",
   "metadata": {},
   "outputs": [],
   "source": [
    "# 라이브러리를 임포트합니다\n",
    "from sklearn.linear_model import LogisticRegressionCV\n",
    "from sklearn import datasets\n",
    "from sklearn.preprocessing import StandardScaler"
   ]
  },
  {
   "cell_type": "code",
   "execution_count": 23,
   "id": "53c86f7b",
   "metadata": {},
   "outputs": [],
   "source": [
    "# 데이터를 로드합니다\n",
    "iris = datasets.load_iris()\n",
    "features = iris.data\n",
    "target   = iris.target"
   ]
  },
  {
   "cell_type": "code",
   "execution_count": 24,
   "id": "15f90bcd",
   "metadata": {},
   "outputs": [],
   "source": [
    "# 특성을 표준화합니다\n",
    "scaler = StandardScaler()\n",
    "features_standardized = scaler.fit_transform(features)"
   ]
  },
  {
   "cell_type": "code",
   "execution_count": 29,
   "id": "3f881c11",
   "metadata": {},
   "outputs": [],
   "source": [
    "# 로지스틱 회귀 모델을 만듭니다\n",
    "logistic_regression = LogisticRegressionCV(penalty='l2', Cs=10, random_state=0, n_jobs=-1)"
   ]
  },
  {
   "cell_type": "code",
   "execution_count": 30,
   "id": "4b38ec0a",
   "metadata": {},
   "outputs": [],
   "source": [
    "# 모델을 훈련합니다\n",
    "model = logistic_regression.fit(features_standardized, target)"
   ]
  },
  {
   "cell_type": "code",
   "execution_count": 31,
   "id": "9a6a2777",
   "metadata": {},
   "outputs": [
    {
     "data": {
      "text/plain": [
       "array([21.5443469, 21.5443469, 21.5443469])"
      ]
     },
     "execution_count": 31,
     "metadata": {},
     "output_type": "execute_result"
    }
   ],
   "source": [
    "# 각 클래스의 최적 C 값\n",
    "logistic_regression.C_"
   ]
  },
  {
   "cell_type": "markdown",
   "id": "1686f102",
   "metadata": {},
   "source": [
    "---"
   ]
  },
  {
   "cell_type": "markdown",
   "id": "3998aee6",
   "metadata": {},
   "source": [
    "# 16.4 대용량 데이터에서 분류기 훈련하기"
   ]
  },
  {
   "cell_type": "code",
   "execution_count": 32,
   "id": "243b6250",
   "metadata": {},
   "outputs": [],
   "source": [
    "# 라이브러리를 임포트합니다\n",
    "from sklearn.linear_model import LogisticRegression\n",
    "from sklearn import datasets\n",
    "from sklearn.preprocessing import StandardScaler"
   ]
  },
  {
   "cell_type": "code",
   "execution_count": 33,
   "id": "abfb79ca",
   "metadata": {},
   "outputs": [],
   "source": [
    "# 데이터를 로드합니다\n",
    "iris = datasets.load_iris()\n",
    "features = iris.data\n",
    "target   = iris.target"
   ]
  },
  {
   "cell_type": "code",
   "execution_count": 34,
   "id": "e33e105e",
   "metadata": {},
   "outputs": [],
   "source": [
    "# 특성을 표준화합니다.\n",
    "scaler = StandardScaler()\n",
    "features_standardized = scaler.fit_transform(features)"
   ]
  },
  {
   "cell_type": "code",
   "execution_count": 35,
   "id": "98eb149c",
   "metadata": {},
   "outputs": [],
   "source": [
    "# 로지스틱 회귀 모델을 만듭니다\n",
    "logistic_regression = LogisticRegression(random_state=0, solver='sag')"
   ]
  },
  {
   "cell_type": "code",
   "execution_count": 36,
   "id": "04604c39",
   "metadata": {},
   "outputs": [],
   "source": [
    "# 모델을 훈련합니다\n",
    "model = logistic_regression.fit(features_standardized, target)"
   ]
  },
  {
   "cell_type": "markdown",
   "id": "45ea46f3",
   "metadata": {},
   "source": [
    "---"
   ]
  },
  {
   "cell_type": "markdown",
   "id": "488657d9",
   "metadata": {},
   "source": [
    "# 16.5 불균형한 클래스 다루기"
   ]
  },
  {
   "cell_type": "code",
   "execution_count": 37,
   "id": "8b0fa6aa",
   "metadata": {},
   "outputs": [],
   "source": [
    "# 라이브러리를 임포트합니다.\n",
    "import numpy as np\n",
    "from sklearn.linear_model import LogisticRegression\n",
    "from sklearn import datasets\n",
    "from sklearn.preprocessing import StandardScaler"
   ]
  },
  {
   "cell_type": "code",
   "execution_count": 38,
   "id": "4712b232",
   "metadata": {},
   "outputs": [],
   "source": [
    "# 데이터를 로드합니다\n",
    "iris = datasets.load_iris()\n",
    "features = iris.data\n",
    "target   = iris.target"
   ]
  },
  {
   "cell_type": "code",
   "execution_count": 39,
   "id": "4d716c2e",
   "metadata": {},
   "outputs": [],
   "source": [
    "# 처음 48개 샘플을 제거하여 불균형한 클래스를 만듭니다.\n",
    "features = features[40:,:]\n",
    "target = target[40:]"
   ]
  },
  {
   "cell_type": "code",
   "execution_count": 41,
   "id": "cceafbce",
   "metadata": {},
   "outputs": [],
   "source": [
    "# 타겟 벡터에서 0이 아닌 클래스는 모두 1로 만듭니다\n",
    "target = np.where((target==0), 0, 1)"
   ]
  },
  {
   "cell_type": "code",
   "execution_count": 42,
   "id": "03dc0790",
   "metadata": {},
   "outputs": [],
   "source": [
    "# 특성을 표준화합니다\n",
    "scaler = StandardScaler()\n",
    "features_standardized = scaler.fit_transform(features)"
   ]
  },
  {
   "cell_type": "code",
   "execution_count": 45,
   "id": "77ab2880",
   "metadata": {},
   "outputs": [],
   "source": [
    "# 로지스틱 회귀 모델을 만듭니다\n",
    "logistic_regression = LogisticRegression(random_state=0, class_weight='balanced')"
   ]
  },
  {
   "cell_type": "code",
   "execution_count": 46,
   "id": "5f2d76d0",
   "metadata": {},
   "outputs": [],
   "source": [
    "# 모델을 훈련합니다\n",
    "model = logistic_regression.fit(features_standardized, target)"
   ]
  },
  {
   "cell_type": "markdown",
   "id": "d22ef9b6",
   "metadata": {},
   "source": [
    "- 클래스 가중치 구하기"
   ]
  },
  {
   "cell_type": "code",
   "execution_count": 49,
   "id": "5c18be99",
   "metadata": {},
   "outputs": [
    {
     "data": {
      "text/plain": [
       "array([5.5 , 0.55])"
      ]
     },
     "execution_count": 49,
     "metadata": {},
     "output_type": "execute_result"
    }
   ],
   "source": [
    "from sklearn.utils.class_weight import compute_class_weight\n",
    "\n",
    "# 클래스 레이블이 0, 1인 데이터의 클래스 가중치를 계산합니다.\n",
    "compute_class_weight(class_weight='balanced', classes=[0,1], y=target)"
   ]
  },
  {
   "cell_type": "markdown",
   "id": "2816d807",
   "metadata": {},
   "source": [
    "- 딕셔너리 전달"
   ]
  },
  {
   "cell_type": "code",
   "execution_count": 51,
   "id": "5cb1870d",
   "metadata": {},
   "outputs": [],
   "source": [
    "# 10:1의 클래스 가중치를 부여한 로지스틱 회귀 모델을 만듭니다\n",
    "logistic_regression = LogisticRegression(random_state=0, class_weight={0:10, 1:1})"
   ]
  },
  {
   "cell_type": "code",
   "execution_count": 52,
   "id": "eaa05736",
   "metadata": {},
   "outputs": [],
   "source": [
    "# 모델을 훈련합니다\n",
    "model = logistic_regression.fit(features_standardized, target)"
   ]
  },
  {
   "cell_type": "code",
   "execution_count": null,
   "id": "aeee5ed2",
   "metadata": {},
   "outputs": [],
   "source": []
  },
  {
   "cell_type": "code",
   "execution_count": null,
   "id": "313907b1",
   "metadata": {},
   "outputs": [],
   "source": []
  },
  {
   "cell_type": "code",
   "execution_count": null,
   "id": "fce7ec26",
   "metadata": {},
   "outputs": [],
   "source": []
  }
 ],
 "metadata": {
  "kernelspec": {
   "display_name": "Python 3 (ipykernel)",
   "language": "python",
   "name": "python3"
  },
  "language_info": {
   "codemirror_mode": {
    "name": "ipython",
    "version": 3
   },
   "file_extension": ".py",
   "mimetype": "text/x-python",
   "name": "python",
   "nbconvert_exporter": "python",
   "pygments_lexer": "ipython3",
   "version": "3.10.9"
  }
 },
 "nbformat": 4,
 "nbformat_minor": 5
}
