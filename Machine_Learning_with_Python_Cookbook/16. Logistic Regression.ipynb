{
 "cells": [
  {
   "cell_type": "markdown",
   "id": "4bae8105",
   "metadata": {},
   "source": [
    "# 16.0 소개"
   ]
  },
  {
   "cell_type": "markdown",
   "id": "d826375f",
   "metadata": {},
   "source": [
    "---"
   ]
  },
  {
   "cell_type": "markdown",
   "id": "9a74845b",
   "metadata": {},
   "source": [
    "# 16.1 이진 분류기 훈련하기"
   ]
  },
  {
   "cell_type": "code",
   "execution_count": 1,
   "id": "948abd37",
   "metadata": {},
   "outputs": [],
   "source": [
    "# 라이브러리를 임포트합니다\n",
    "from sklearn.linear_model import LogisticRegression\n",
    "from sklearn import datasets\n",
    "from sklearn.preprocessing import StandardScaler"
   ]
  },
  {
   "cell_type": "code",
   "execution_count": 3,
   "id": "c2f48345",
   "metadata": {},
   "outputs": [],
   "source": [
    "# 데이터를 로드하고 두 개의 클래스만 선택합니다\n",
    "iris = datasets.load_iris()\n",
    "features = iris.data[:100,:]\n",
    "target   = iris.target[:100]"
   ]
  },
  {
   "cell_type": "code",
   "execution_count": 8,
   "id": "b80f6b80",
   "metadata": {},
   "outputs": [],
   "source": [
    "# 특성을 표준화합니다\n",
    "scaler = StandardScaler()\n",
    "features_standardized = scaler.fit_transform(features)"
   ]
  },
  {
   "cell_type": "code",
   "execution_count": 9,
   "id": "6558e204",
   "metadata": {},
   "outputs": [],
   "source": [
    "# 로지스틱 회귀 모델을 만듭니다\n",
    "logistic_regression = LogisticRegression(random_state=0)"
   ]
  },
  {
   "cell_type": "code",
   "execution_count": 11,
   "id": "2ada5a71",
   "metadata": {},
   "outputs": [],
   "source": [
    "# 모델을 훈련합니다\n",
    "model = logistic_regression.fit(features_standardized, target)"
   ]
  },
  {
   "cell_type": "markdown",
   "id": "ba6bd4f3",
   "metadata": {},
   "source": [
    "- 훈련이 끝나고 새로운 샘플의 클래스 예측"
   ]
  },
  {
   "cell_type": "code",
   "execution_count": 15,
   "id": "ce7ad992",
   "metadata": {},
   "outputs": [],
   "source": [
    "# 새로운 샘플을 만듭니다\n",
    "new_observation = [[.5,.5,.5,.5]]"
   ]
  },
  {
   "cell_type": "code",
   "execution_count": 16,
   "id": "fc8d9ce1",
   "metadata": {},
   "outputs": [
    {
     "data": {
      "text/plain": [
       "array([1])"
      ]
     },
     "execution_count": 16,
     "metadata": {},
     "output_type": "execute_result"
    }
   ],
   "source": [
    "# 클래스를 예측합니다\n",
    "model.predict(new_observation)"
   ]
  },
  {
   "cell_type": "code",
   "execution_count": 17,
   "id": "88ba184a",
   "metadata": {},
   "outputs": [
    {
     "data": {
      "text/plain": [
       "array([[0.17738424, 0.82261576]])"
      ]
     },
     "execution_count": 17,
     "metadata": {},
     "output_type": "execute_result"
    }
   ],
   "source": [
    "# 예측 확률을 확인합니다\n",
    "model.predict_proba(new_observation)"
   ]
  },
  {
   "cell_type": "markdown",
   "id": "78ebdc0f",
   "metadata": {},
   "source": [
    "---"
   ]
  },
  {
   "cell_type": "markdown",
   "id": "1d515e46",
   "metadata": {},
   "source": [
    "# 16.2 다중 클래스 분류기 훈련하기"
   ]
  },
  {
   "cell_type": "code",
   "execution_count": 18,
   "id": "229f18a5",
   "metadata": {},
   "outputs": [],
   "source": [
    "# 라이브러리를 임포트합니다\n",
    "from sklearn.linear_model import LogisticRegression\n",
    "from sklearn import datasets\n",
    "from sklearn.preprocessing import StandardScaler"
   ]
  },
  {
   "cell_type": "code",
   "execution_count": 19,
   "id": "fb2c7b97",
   "metadata": {},
   "outputs": [],
   "source": [
    "# 데이터를 로드합니다\n",
    "iris = datasets.load_iris()\n",
    "features = iris.data\n",
    "target   = iris.target"
   ]
  },
  {
   "cell_type": "code",
   "execution_count": 20,
   "id": "4771cf8a",
   "metadata": {},
   "outputs": [],
   "source": [
    "# 특성을 표준화합니다\n",
    "scaler = StandardScaler()\n",
    "features_standardized = scaler.fit_transform(features)"
   ]
  },
  {
   "cell_type": "code",
   "execution_count": null,
   "id": "c100dca6",
   "metadata": {},
   "outputs": [],
   "source": [
    "# OVR 로지스틱 회귀 모델을 만듭니다.\n",
    "logistic_regression = LogisticRegression(ran)"
   ]
  },
  {
   "cell_type": "code",
   "execution_count": 21,
   "id": "20c501ff",
   "metadata": {},
   "outputs": [],
   "source": [
    "# 모델을 훈련합니다\n",
    "model = logistic_regression.fit(features_standardized, target)"
   ]
  },
  {
   "cell_type": "markdown",
   "id": "3061dd0f",
   "metadata": {},
   "source": [
    "---"
   ]
  },
  {
   "cell_type": "markdown",
   "id": "4273ca44",
   "metadata": {},
   "source": [
    "# 16.3 규제로 분산 줄이기"
   ]
  },
  {
   "cell_type": "code",
   "execution_count": 22,
   "id": "db922822",
   "metadata": {},
   "outputs": [],
   "source": [
    "# 라이브러리를 임포트합니다\n",
    "from sklearn.linear_model import LogisticRegressionCV\n",
    "from sklearn import datasets\n",
    "from sklearn.preprocessing import StandardScaler"
   ]
  },
  {
   "cell_type": "code",
   "execution_count": 23,
   "id": "db1aa967",
   "metadata": {},
   "outputs": [],
   "source": [
    "# 데이터를 로드합니다\n",
    "iris = datasets.load_iris()\n",
    "features = iris.data\n",
    "target   = iris.target"
   ]
  },
  {
   "cell_type": "code",
   "execution_count": 24,
   "id": "3ade01a5",
   "metadata": {},
   "outputs": [],
   "source": [
    "# 특성을 표준화합니다\n",
    "scaler = StandardScaler()\n",
    "features_standardized = scaler.fit_transform(features)"
   ]
  },
  {
   "cell_type": "code",
   "execution_count": 29,
   "id": "99e59c4b",
   "metadata": {},
   "outputs": [],
   "source": [
    "# 로지스틱 회귀 모델을 만듭니다\n",
    "logistic_regression = LogisticRegressionCV(penalty='l2', Cs=10, random_state=0, n_jobs=-1)"
   ]
  },
  {
   "cell_type": "code",
   "execution_count": 30,
   "id": "e073c02f",
   "metadata": {},
   "outputs": [],
   "source": [
    "# 모델을 훈련합니다\n",
    "model = logistic_regression.fit(features_standardized, target)"
   ]
  },
  {
   "cell_type": "code",
   "execution_count": 31,
   "id": "84a03c32",
   "metadata": {},
   "outputs": [
    {
     "data": {
      "text/plain": [
       "array([21.5443469, 21.5443469, 21.5443469])"
      ]
     },
     "execution_count": 31,
     "metadata": {},
     "output_type": "execute_result"
    }
   ],
   "source": [
    "# 각 클래스의 최적 C 값\n",
    "logistic_regression.C_"
   ]
  },
  {
   "cell_type": "markdown",
   "id": "16112d0a",
   "metadata": {},
   "source": [
    "---"
   ]
  },
  {
   "cell_type": "markdown",
   "id": "f4054467",
   "metadata": {},
   "source": [
    "# 16.4 대용량 데이터에서 분류기 훈련하기"
   ]
  },
  {
   "cell_type": "code",
   "execution_count": 32,
   "id": "c5b389ba",
   "metadata": {},
   "outputs": [],
   "source": [
    "# 라이브러리를 임포트합니다\n",
    "from sklearn.linear_model import LogisticRegression\n",
    "from sklearn import datasets\n",
    "from sklearn.preprocessing import StandardScaler"
   ]
  },
  {
   "cell_type": "code",
   "execution_count": 33,
   "id": "d45da00a",
   "metadata": {},
   "outputs": [],
   "source": [
    "# 데이터를 로드합니다\n",
    "iris = datasets.load_iris()\n",
    "features = iris.data\n",
    "target   = iris.target"
   ]
  },
  {
   "cell_type": "code",
   "execution_count": 34,
   "id": "a28713b4",
   "metadata": {},
   "outputs": [],
   "source": [
    "# 특성을 표준화합니다.\n",
    "scaler = StandardScaler()\n",
    "features_standardized = scaler.fit_transform(features)"
   ]
  },
  {
   "cell_type": "code",
   "execution_count": 35,
   "id": "7518924d",
   "metadata": {},
   "outputs": [],
   "source": [
    "# 로지스틱 회귀 모델을 만듭니다\n",
    "logistic_regression = LogisticRegression(random_state=0, solver='sag')"
   ]
  },
  {
   "cell_type": "code",
   "execution_count": 36,
   "id": "4b376e9d",
   "metadata": {},
   "outputs": [],
   "source": [
    "# 모델을 훈련합니다\n",
    "model = logistic_regression.fit(features_standardized, target)"
   ]
  },
  {
   "cell_type": "markdown",
   "id": "bfcf4018",
   "metadata": {},
   "source": [
    "---"
   ]
  },
  {
   "cell_type": "markdown",
   "id": "3477c441",
   "metadata": {},
   "source": [
    "# 16.5 불균형한 클래스 다루기"
   ]
  },
  {
   "cell_type": "code",
   "execution_count": 37,
   "id": "9ad22ec4",
   "metadata": {},
   "outputs": [],
   "source": [
    "# 라이브러리를 임포트합니다.\n",
    "import numpy as np\n",
    "from sklearn.linear_model import LogisticRegression\n",
    "from sklearn import datasets\n",
    "from sklearn.preprocessing import StandardScaler"
   ]
  },
  {
   "cell_type": "code",
   "execution_count": 38,
   "id": "21db0b01",
   "metadata": {},
   "outputs": [],
   "source": [
    "# 데이터를 로드합니다\n",
    "iris = datasets.load_iris()\n",
    "features = iris.data\n",
    "target   = iris.target"
   ]
  },
  {
   "cell_type": "code",
   "execution_count": 39,
   "id": "31021cab",
   "metadata": {},
   "outputs": [],
   "source": [
    "# 처음 48개 샘플을 제거하여 불균형한 클래스를 만듭니다.\n",
    "features = features[40:,:]\n",
    "target = target[40:]"
   ]
  },
  {
   "cell_type": "code",
   "execution_count": 41,
   "id": "00c96949",
   "metadata": {},
   "outputs": [],
   "source": [
    "# 타겟 벡터에서 0이 아닌 클래스는 모두 1로 만듭니다\n",
    "target = np.where((target==0), 0, 1)"
   ]
  },
  {
   "cell_type": "code",
   "execution_count": 42,
   "id": "ce842d09",
   "metadata": {},
   "outputs": [],
   "source": [
    "# 특성을 표준화합니다\n",
    "scaler = StandardScaler()\n",
    "features_standardized = scaler.fit_transform(features)"
   ]
  },
  {
   "cell_type": "code",
   "execution_count": 45,
   "id": "4121ddc4",
   "metadata": {},
   "outputs": [],
   "source": [
    "# 로지스틱 회귀 모델을 만듭니다\n",
    "logistic_regression = LogisticRegression(random_state=0, class_weight='balanced')"
   ]
  },
  {
   "cell_type": "code",
   "execution_count": 46,
   "id": "4d5c9a0e",
   "metadata": {},
   "outputs": [],
   "source": [
    "# 모델을 훈련합니다\n",
    "model = logistic_regression.fit(features_standardized, target)"
   ]
  },
  {
   "cell_type": "markdown",
   "id": "658a92ef",
   "metadata": {},
   "source": [
    "- 클래스 가중치 구하기"
   ]
  },
  {
   "cell_type": "code",
   "execution_count": 49,
   "id": "b127c5e2",
   "metadata": {},
   "outputs": [
    {
     "data": {
      "text/plain": [
       "array([5.5 , 0.55])"
      ]
     },
     "execution_count": 49,
     "metadata": {},
     "output_type": "execute_result"
    }
   ],
   "source": [
    "from sklearn.utils.class_weight import compute_class_weight\n",
    "\n",
    "# 클래스 레이블이 0, 1인 데이터의 클래스 가중치를 계산합니다.\n",
    "compute_class_weight(class_weight='balanced', classes=[0,1], y=target)"
   ]
  },
  {
   "cell_type": "markdown",
   "id": "cd6f261e",
   "metadata": {},
   "source": [
    "- 딕셔너리 전달"
   ]
  },
  {
   "cell_type": "code",
   "execution_count": 51,
   "id": "7d89dcf8",
   "metadata": {},
   "outputs": [],
   "source": [
    "# 10:1의 클래스 가중치를 부여한 로지스틱 회귀 모델을 만듭니다\n",
    "logistic_regression = LogisticRegression(random_state=0, class_weight={0:10, 1:1})"
   ]
  },
  {
   "cell_type": "code",
   "execution_count": 52,
   "id": "5cbaf3e8",
   "metadata": {},
   "outputs": [],
   "source": [
    "# 모델을 훈련합니다\n",
    "model = logistic_regression.fit(features_standardized, target)"
   ]
  },
  {
   "cell_type": "code",
   "execution_count": null,
   "id": "ca3d5f47",
   "metadata": {},
   "outputs": [],
   "source": []
  },
  {
   "cell_type": "code",
   "execution_count": null,
   "id": "7c7301fa",
   "metadata": {},
   "outputs": [],
   "source": []
  },
  {
   "cell_type": "code",
   "execution_count": null,
   "id": "6de14c0c",
   "metadata": {},
   "outputs": [],
   "source": []
  }
 ],
 "metadata": {
  "kernelspec": {
   "display_name": "Python 3 (ipykernel)",
   "language": "python",
   "name": "python3"
  },
  "language_info": {
   "codemirror_mode": {
    "name": "ipython",
    "version": 3
   },
   "file_extension": ".py",
   "mimetype": "text/x-python",
   "name": "python",
   "nbconvert_exporter": "python",
   "pygments_lexer": "ipython3",
   "version": "3.10.9"
  }
 },
 "nbformat": 4,
 "nbformat_minor": 5
}
